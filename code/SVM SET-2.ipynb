{
 "cells": [
  {
   "cell_type": "code",
   "execution_count": 1,
   "id": "5b5c192d",
   "metadata": {},
   "outputs": [],
   "source": [
    "import pandas as pd\n",
    "from sklearn.model_selection import train_test_split\n",
    "from sklearn.feature_extraction.text import TfidfVectorizer\n",
    "from sklearn import svm\n",
    "from sklearn.metrics import accuracy_score, precision_score, recall_score\n"
   ]
  },
  {
   "cell_type": "code",
   "execution_count": 2,
   "id": "14ec8c91",
   "metadata": {},
   "outputs": [],
   "source": [
    "from sklearn import svm\n",
    "from sklearn.metrics import confusion_matrix\n",
    "import numpy as np"
   ]
  },
  {
   "cell_type": "code",
   "execution_count": 3,
   "id": "56bf0797",
   "metadata": {},
   "outputs": [],
   "source": [
    "\n",
    "# Load the dataset\n",
    "data = pd.read_csv('New_data.csv')\n",
    "\n"
   ]
  },
  {
   "cell_type": "code",
   "execution_count": 15,
   "id": "97944ae9",
   "metadata": {},
   "outputs": [
    {
     "data": {
      "text/plain": [
       "<bound method DataFrame.info of       Unnamed: 0                                         reviewText  \\\n",
       "0              0  I think this game cannot be called a Sonic The...   \n",
       "1              1  I bought this to charge my wii remotes as well...   \n",
       "2              2         Are super buggy and mess up the game play!   \n",
       "3              3  basic lazy nothing out of the ordinary. save y...   \n",
       "4              4  I loved just cause 2. This game is 10 times wo...   \n",
       "...          ...                                                ...   \n",
       "4494        4495  Package was extremely well packed and shipped....   \n",
       "4495        4496  The ingenuity of this game is amazing. You con...   \n",
       "4496        4497  Cable was easy to hookup and use. Worked well ...   \n",
       "4497        4498  Tons of fun. Great characters. Relatively easy...   \n",
       "4498        4499  I have seen some critical reviews and those re...   \n",
       "\n",
       "     swn_sentiment  \n",
       "0         positive  \n",
       "1          neutral  \n",
       "2         positive  \n",
       "3         positive  \n",
       "4         negative  \n",
       "...            ...  \n",
       "4494      positive  \n",
       "4495      positive  \n",
       "4496      positive  \n",
       "4497      negative  \n",
       "4498       neutral  \n",
       "\n",
       "[4499 rows x 3 columns]>"
      ]
     },
     "execution_count": 15,
     "metadata": {},
     "output_type": "execute_result"
    }
   ],
   "source": [
    "data.info"
   ]
  },
  {
   "cell_type": "code",
   "execution_count": 30,
   "id": "bae853b2",
   "metadata": {},
   "outputs": [],
   "source": [
    "# Preprocess the data (cleaning, lowercasing, etc.)\n",
    "\n",
    "# Split the dataset into training and testing sets\n",
    "X_train, X_test, y_train, y_test = train_test_split(data['reviewText'], data['swn_sentiment'], test_size=0.4, random_state=42)\n"
   ]
  },
  {
   "cell_type": "code",
   "execution_count": null,
   "id": "d54111a8",
   "metadata": {},
   "outputs": [],
   "source": []
  },
  {
   "cell_type": "code",
   "execution_count": 31,
   "id": "47cea036",
   "metadata": {},
   "outputs": [],
   "source": [
    "\n",
    "# Convert text to numerical features using TF-IDF\n",
    "vectorizer = TfidfVectorizer()\n",
    "X_train = vectorizer.fit_transform(X_train)\n",
    "X_test = vectorizer.transform(X_test)\n",
    "\n"
   ]
  },
  {
   "cell_type": "code",
   "execution_count": 32,
   "id": "0b20500d",
   "metadata": {},
   "outputs": [
    {
     "data": {
      "text/html": [
       "<style>#sk-container-id-2 {color: black;background-color: white;}#sk-container-id-2 pre{padding: 0;}#sk-container-id-2 div.sk-toggleable {background-color: white;}#sk-container-id-2 label.sk-toggleable__label {cursor: pointer;display: block;width: 100%;margin-bottom: 0;padding: 0.3em;box-sizing: border-box;text-align: center;}#sk-container-id-2 label.sk-toggleable__label-arrow:before {content: \"▸\";float: left;margin-right: 0.25em;color: #696969;}#sk-container-id-2 label.sk-toggleable__label-arrow:hover:before {color: black;}#sk-container-id-2 div.sk-estimator:hover label.sk-toggleable__label-arrow:before {color: black;}#sk-container-id-2 div.sk-toggleable__content {max-height: 0;max-width: 0;overflow: hidden;text-align: left;background-color: #f0f8ff;}#sk-container-id-2 div.sk-toggleable__content pre {margin: 0.2em;color: black;border-radius: 0.25em;background-color: #f0f8ff;}#sk-container-id-2 input.sk-toggleable__control:checked~div.sk-toggleable__content {max-height: 200px;max-width: 100%;overflow: auto;}#sk-container-id-2 input.sk-toggleable__control:checked~label.sk-toggleable__label-arrow:before {content: \"▾\";}#sk-container-id-2 div.sk-estimator input.sk-toggleable__control:checked~label.sk-toggleable__label {background-color: #d4ebff;}#sk-container-id-2 div.sk-label input.sk-toggleable__control:checked~label.sk-toggleable__label {background-color: #d4ebff;}#sk-container-id-2 input.sk-hidden--visually {border: 0;clip: rect(1px 1px 1px 1px);clip: rect(1px, 1px, 1px, 1px);height: 1px;margin: -1px;overflow: hidden;padding: 0;position: absolute;width: 1px;}#sk-container-id-2 div.sk-estimator {font-family: monospace;background-color: #f0f8ff;border: 1px dotted black;border-radius: 0.25em;box-sizing: border-box;margin-bottom: 0.5em;}#sk-container-id-2 div.sk-estimator:hover {background-color: #d4ebff;}#sk-container-id-2 div.sk-parallel-item::after {content: \"\";width: 100%;border-bottom: 1px solid gray;flex-grow: 1;}#sk-container-id-2 div.sk-label:hover label.sk-toggleable__label {background-color: #d4ebff;}#sk-container-id-2 div.sk-serial::before {content: \"\";position: absolute;border-left: 1px solid gray;box-sizing: border-box;top: 0;bottom: 0;left: 50%;z-index: 0;}#sk-container-id-2 div.sk-serial {display: flex;flex-direction: column;align-items: center;background-color: white;padding-right: 0.2em;padding-left: 0.2em;position: relative;}#sk-container-id-2 div.sk-item {position: relative;z-index: 1;}#sk-container-id-2 div.sk-parallel {display: flex;align-items: stretch;justify-content: center;background-color: white;position: relative;}#sk-container-id-2 div.sk-item::before, #sk-container-id-2 div.sk-parallel-item::before {content: \"\";position: absolute;border-left: 1px solid gray;box-sizing: border-box;top: 0;bottom: 0;left: 50%;z-index: -1;}#sk-container-id-2 div.sk-parallel-item {display: flex;flex-direction: column;z-index: 1;position: relative;background-color: white;}#sk-container-id-2 div.sk-parallel-item:first-child::after {align-self: flex-end;width: 50%;}#sk-container-id-2 div.sk-parallel-item:last-child::after {align-self: flex-start;width: 50%;}#sk-container-id-2 div.sk-parallel-item:only-child::after {width: 0;}#sk-container-id-2 div.sk-dashed-wrapped {border: 1px dashed gray;margin: 0 0.4em 0.5em 0.4em;box-sizing: border-box;padding-bottom: 0.4em;background-color: white;}#sk-container-id-2 div.sk-label label {font-family: monospace;font-weight: bold;display: inline-block;line-height: 1.2em;}#sk-container-id-2 div.sk-label-container {text-align: center;}#sk-container-id-2 div.sk-container {/* jupyter's `normalize.less` sets `[hidden] { display: none; }` but bootstrap.min.css set `[hidden] { display: none !important; }` so we also need the `!important` here to be able to override the default hidden behavior on the sphinx rendered scikit-learn.org. See: https://github.com/scikit-learn/scikit-learn/issues/21755 */display: inline-block !important;position: relative;}#sk-container-id-2 div.sk-text-repr-fallback {display: none;}</style><div id=\"sk-container-id-2\" class=\"sk-top-container\"><div class=\"sk-text-repr-fallback\"><pre>SVC()</pre><b>In a Jupyter environment, please rerun this cell to show the HTML representation or trust the notebook. <br />On GitHub, the HTML representation is unable to render, please try loading this page with nbviewer.org.</b></div><div class=\"sk-container\" hidden><div class=\"sk-item\"><div class=\"sk-estimator sk-toggleable\"><input class=\"sk-toggleable__control sk-hidden--visually\" id=\"sk-estimator-id-2\" type=\"checkbox\" checked><label for=\"sk-estimator-id-2\" class=\"sk-toggleable__label sk-toggleable__label-arrow\">SVC</label><div class=\"sk-toggleable__content\"><pre>SVC()</pre></div></div></div></div></div>"
      ],
      "text/plain": [
       "SVC()"
      ]
     },
     "execution_count": 32,
     "metadata": {},
     "output_type": "execute_result"
    }
   ],
   "source": [
    "# Train the SVM model\n",
    "model = svm.SVC()\n",
    "model.fit(X_train, y_train)\n",
    "\n"
   ]
  },
  {
   "cell_type": "code",
   "execution_count": 33,
   "id": "f8d23ffb",
   "metadata": {},
   "outputs": [
    {
     "data": {
      "text/plain": [
       "array(['negative', 'positive', 'negative', ..., 'positive', 'negative',\n",
       "       'positive'], dtype=object)"
      ]
     },
     "execution_count": 33,
     "metadata": {},
     "output_type": "execute_result"
    }
   ],
   "source": [
    "# Predict sentiment for the test set\n",
    "y_pred = model.predict(X_test)\n",
    "y_pred\n"
   ]
  },
  {
   "cell_type": "code",
   "execution_count": 34,
   "id": "ebe368fa",
   "metadata": {},
   "outputs": [
    {
     "data": {
      "text/plain": [
       "array([1.        , 0.12364097, 0.11789048, ..., 0.56532982, 0.41076238,\n",
       "       0.20084272])"
      ]
     },
     "execution_count": 34,
     "metadata": {},
     "output_type": "execute_result"
    }
   ],
   "source": [
    "X_test.data"
   ]
  },
  {
   "cell_type": "code",
   "execution_count": 35,
   "id": "cc0038c1",
   "metadata": {},
   "outputs": [
    {
     "name": "stdout",
     "output_type": "stream",
     "text": [
      "Confusion Matrix:\n",
      "[[514   0 211]\n",
      " [ 60   0 124]\n",
      " [147   0 744]]\n"
     ]
    },
    {
     "data": {
      "image/png": "[encoded data removed]",
      "text/plain": [
       "<Figure size 432x288 with 2 Axes>"
      ]
     },
     "metadata": {
      "needs_background": "light"
     },
     "output_type": "display_data"
    }
   ],
   "source": [
    "# Create a confusion matrix\n",
    "cm = confusion_matrix(y_test, y_pred)\n",
    "\n",
    "# Print the confusion matrix\n",
    "print(\"Confusion Matrix:\")\n",
    "print(cm)\n",
    "\n",
    "# If you want to visualize the confusion matrix, you can use matplotlib\n",
    "import matplotlib.pyplot as plt\n",
    "import seaborn as sns\n",
    "labels = ['Positive, Negative, Neutral']\n",
    "# Create a heatmap of the confusion matrix\n",
    "sns.heatmap(cm, annot=True, fmt='d')\n",
    "plt.title('Confusion Matrix')\n",
    "plt.xlabel('Predicted')\n",
    "plt.ylabel('Actual')\n",
    "plt.show()"
   ]
  },
  {
   "cell_type": "code",
   "execution_count": 66,
   "id": "f9dd604a",
   "metadata": {},
   "outputs": [
    {
     "name": "stdout",
     "output_type": "stream",
     "text": [
      "[[514   0 211]\n",
      " [ 60 124   0]\n",
      " [147 302 442]]\n"
     ]
    }
   ],
   "source": [
    "import numpy as np\n",
    "\n",
    "matrix = np.matrix([[514, 0, 211], [60, 124, 0], [147, 302, 442]])\n",
    "print(matrix)"
   ]
  },
  {
   "cell_type": "code",
   "execution_count": 67,
   "id": "90c74b3f",
   "metadata": {},
   "outputs": [
    {
     "name": "stdout",
     "output_type": "stream",
     "text": [
      "Confusion Matrix:\n",
      "[[431   1 126]\n",
      " [ 49   0  70]\n",
      " [124   0 549]]\n"
     ]
    },
    {
     "data": {
      "image/png": "[encoded data removed]",
      "text/plain": [
       "<Figure size 432x288 with 2 Axes>"
      ]
     },
     "metadata": {
      "needs_background": "light"
     },
     "output_type": "display_data"
    }
   ],
   "source": [
    "# Create a confusion matrix\n",
    "cm = confusion_matrix(y_test, y_pred)\n",
    "\n",
    "# Print the confusion matrix\n",
    "print(\"Confusion Matrix:\")\n",
    "print(cm)\n",
    "\n",
    "# If you want to visualize the confusion matrix, you can use matplotlib\n",
    "import matplotlib.pyplot as plt\n",
    "import seaborn as sns\n",
    "labels = ['Positive, Negative, Neutral']\n",
    "# Create a heatmap of the confusion matrix\n",
    "sns.heatmap(matrix, annot=True, fmt='d')\n",
    "plt.title('Confusion Matrix')\n",
    "plt.xlabel('Predicted')\n",
    "plt.ylabel('Actual')\n",
    "plt.show()"
   ]
  },
  {
   "cell_type": "code",
   "execution_count": 70,
   "id": "6a131c63",
   "metadata": {},
   "outputs": [
    {
     "data": {
      "text/plain": [
       "matrix([[514,   0, 211],\n",
       "        [ 60, 124,   0],\n",
       "        [147, 302, 442]])"
      ]
     },
     "execution_count": 70,
     "metadata": {},
     "output_type": "execute_result"
    }
   ],
   "source": [
    "matrix"
   ]
  },
  {
   "cell_type": "code",
   "execution_count": 38,
   "id": "44d2f614",
   "metadata": {},
   "outputs": [
    {
     "name": "stderr",
     "output_type": "stream",
     "text": [
      "C:\\Users\\Admin\\anaconda3\\lib\\site-packages\\sklearn\\metrics\\_classification.py:1344: UndefinedMetricWarning: Precision is ill-defined and being set to 0.0 in labels with no predicted samples. Use `zero_division` parameter to control this behavior.\n",
      "  _warn_prf(average, modifier, msg_start, len(result))\n"
     ]
    }
   ],
   "source": [
    "accuracy = accuracy_score(y_test, y_pred)\n",
    "precision = precision_score(y_test, y_pred, average='macro')\n",
    "recall = recall_score(y_test, y_pred, average='macro')"
   ]
  },
  {
   "cell_type": "code",
   "execution_count": 39,
   "id": "5db9eaba",
   "metadata": {},
   "outputs": [
    {
     "name": "stdout",
     "output_type": "stream",
     "text": [
      "Accuracy: 0.6988888888888889\n",
      "Precision: 0.46747536395448436\n",
      "Recall: 0.5146607840860714\n"
     ]
    }
   ],
   "source": [
    "\n",
    "print('Accuracy:', accuracy)\n",
    "print('Precision:', precision)\n",
    "print('Recall:', recall)"
   ]
  },
  {
   "cell_type": "code",
   "execution_count": 40,
   "id": "27ab7f2a",
   "metadata": {},
   "outputs": [
    {
     "name": "stdout",
     "output_type": "stream",
     "text": [
      "Overall Classification:\n",
      "Accuracy: 0.6988888888888889\n",
      "Precision: 0.46747536395448436\n",
      "Recall: 0.5146607840860714\n",
      "F1-score: 0.48875221452258755\n",
      "Positive Class:\n",
      "Accuracy (Positive): 0.835016835016835\n",
      "Precision (Positive): 1.0\n",
      "Recall (Positive): 0.835016835016835\n",
      "F1-score (Positive): 0.910091743119266\n",
      "Negative Class:\n",
      "Accuracy (Negative): 0.7089655172413794\n",
      "Precision (Negative): 1.0\n",
      "Recall (Negative): 0.7089655172413794\n",
      "F1-score (Negative): 0.8297013720742534\n"
     ]
    },
    {
     "name": "stderr",
     "output_type": "stream",
     "text": [
      "C:\\Users\\Admin\\anaconda3\\lib\\site-packages\\sklearn\\metrics\\_classification.py:1344: UndefinedMetricWarning: Precision is ill-defined and being set to 0.0 in labels with no predicted samples. Use `zero_division` parameter to control this behavior.\n",
      "  _warn_prf(average, modifier, msg_start, len(result))\n"
     ]
    }
   ],
   "source": [
    "from sklearn.metrics import accuracy_score, precision_score, recall_score, f1_score\n",
    "\n",
    "# Calculate accuracy, precision, recall, and F1-score for overall classification\n",
    "accuracy = accuracy_score(y_test, y_pred)\n",
    "precision = precision_score(y_test, y_pred, average='macro')\n",
    "recall = recall_score(y_test, y_pred, average='macro')\n",
    "f1 = f1_score(y_test, y_pred, average='macro')\n",
    "\n",
    "# Calculate accuracy, precision, recall, and F1-score for positive class\n",
    "positive_indices = y_test == 'positive'  # Assuming 'positive' is the positive class label\n",
    "y_test_positive = y_test[positive_indices]\n",
    "y_pred_positive = y_pred[positive_indices]\n",
    "\n",
    "accuracy_positive = accuracy_score(y_test_positive, y_pred_positive)\n",
    "precision_positive = precision_score(y_test_positive, y_pred_positive, average='binary', pos_label='positive')\n",
    "recall_positive = recall_score(y_test_positive, y_pred_positive, average='binary', pos_label='positive')\n",
    "f1_positive = f1_score(y_test_positive, y_pred_positive, average='binary', pos_label='positive')\n",
    "\n",
    "# Calculate accuracy, precision, recall, and F1-score for negative class\n",
    "negative_indices = y_test == 'negative'  # Assuming 'negative' is the negative class label\n",
    "y_test_negative = y_test[negative_indices]\n",
    "y_pred_negative = y_pred[negative_indices]\n",
    "\n",
    "accuracy_negative = accuracy_score(y_test_negative, y_pred_negative)\n",
    "precision_negative = precision_score(y_test_negative, y_pred_negative, average='binary', pos_label='negative')\n",
    "recall_negative = recall_score(y_test_negative, y_pred_negative, average='binary', pos_label='negative')\n",
    "f1_negative = f1_score(y_test_negative, y_pred_negative, average='binary', pos_label='negative')\n",
    "\n",
    "# Print the results\n",
    "print(\"Overall Classification:\")\n",
    "print(\"Accuracy:\", accuracy)\n",
    "print(\"Precision:\", precision)\n",
    "print(\"Recall:\", recall)\n",
    "print(\"F1-score:\", f1)\n",
    "\n",
    "print(\"Positive Class:\")\n",
    "print(\"Accuracy (Positive):\", accuracy_positive)\n",
    "print(\"Precision (Positive):\", precision_positive)\n",
    "print(\"Recall (Positive):\", recall_positive)\n",
    "print(\"F1-score (Positive):\", f1_positive)\n",
    "\n",
    "print(\"Negative Class:\")\n",
    "print(\"Accuracy (Negative):\", accuracy_negative)\n",
    "print(\"Precision (Negative):\", precision_negative)\n",
    "print(\"Recall (Negative):\", recall_negative)\n",
    "print(\"F1-score (Negative):\", f1_negative)"
   ]
  },
  {
   "cell_type": "code",
   "execution_count": 42,
   "id": "1890c117",
   "metadata": {},
   "outputs": [],
   "source": [
    "accuracy_positive = accuracy_score(y_test_positive, y_pred_positive)\n",
    "accuracy_negative = accuracy_score(y_test_negative, y_pred_negative)\n"
   ]
  },
  {
   "cell_type": "code",
   "execution_count": 43,
   "id": "dd187e5f",
   "metadata": {},
   "outputs": [
    {
     "data": {
      "image/png": "[encoded data removed]",
      "text/plain": [
       "<Figure size 432x288 with 1 Axes>"
      ]
     },
     "metadata": {
      "needs_background": "light"
     },
     "output_type": "display_data"
    }
   ],
   "source": [
    "import matplotlib.pyplot as plt\n",
    "\n",
    "# Assuming you have the accuracy scores available\n",
    "accuracy_positive_1 = accuracy_positive\n",
    "accuracy_positive_2 = 0.68\n",
    "accuracy_negative_1 = accuracy_negative\n",
    "accuracy_negative_2 = 0.66\n",
    "\n",
    "# Create a bar chart\n",
    "labels = ['Positive', 'Positive', 'Negative', 'Negative']\n",
    "accuracy_scores = [accuracy_positive_1, accuracy_positive_2, accuracy_negative_1, accuracy_negative_2]\n",
    "\n",
    "plt.bar(labels, accuracy_scores)\n",
    "plt.xlabel('Label')\n",
    "plt.ylabel('Accuracy')\n",
    "plt.title('Accuracy Scores for SVM and Opinion Lexicon model')\n",
    "plt.ylim(0, 1)  # Set the y-axis limits between 0 and 1\n",
    "plt.show()"
   ]
  },
  {
   "cell_type": "code",
   "execution_count": 72,
   "id": "3970d894",
   "metadata": {},
   "outputs": [
    {
     "data": {
      "image/png": "[encoded data removed]",
      "text/plain": [
       "<Figure size 432x288 with 1 Axes>"
      ]
     },
     "metadata": {
      "needs_background": "light"
     },
     "output_type": "display_data"
    }
   ],
   "source": [
    "import matplotlib.pyplot as plt\n",
    "import numpy as np\n",
    "\n",
    "# Assuming you have the accuracy scores available\n",
    "accuracy_positive = [0.85, 0.68]\n",
    "accuracy_negative = [0.67, 0.66]\n",
    "\n",
    "# Set the position of the bars\n",
    "ind = np.arange(2)\n",
    "width = 0.35\n",
    "\n",
    "# Create a bar plot\n",
    "fig, ax = plt.subplots()\n",
    "positive_bars = ax.bar(ind, accuracy_positive, width, label='SVM')\n",
    "negative_bars = ax.bar(ind + width, accuracy_negative, width, label='Opinion Lexicon')\n",
    "\n",
    "# Set the labels, title, and legend\n",
    "ax.set_xlabel('Label')\n",
    "ax.set_ylabel('Accuracy')\n",
    "ax.set_title('Accuracy Scores for SVM and Opinion Lexicon')\n",
    "ax.set_xticks(ind + width / 2)\n",
    "ax.set_xticklabels(('Positive', 'Negative'))\n",
    "ax.legend()\n",
    "# Show the plot\n",
    "plt.show()\n"
   ]
  },
  {
   "cell_type": "code",
   "execution_count": 55,
   "id": "6c02b8b7",
   "metadata": {},
   "outputs": [],
   "source": [
    "import pandas as pd\n",
    "from sklearn.model_selection import train_test_split\n",
    "from sklearn.feature_extraction.text import TfidfVectorizer\n",
    "from sklearn.svm import SVC\n",
    "from sklearn.metrics import accuracy_score, f1_score, recall_score, confusion_matrix\n",
    "\n",
    "# Load data (replace this line with loading your actual dataset)\n",
    "data = pd.read_csv(\"New_data.csv\")\n",
    "\n",
    "# Split the dataset into features ('reviews') and labels ('sentiments')\n",
    "X = data['reviewText']\n",
    "y = data['swn_sentiment']\n",
    "\n",
    "# Split the data into training and testing sets (80% for training and 20% for testing)\n",
    "X_train, X_test, y_train, y_test = train_test_split(X, y, test_size=.3)\n",
    "\n",
    "# Transform text reviews to numerical vectors using TF-IDF vectorizer\n",
    "vectorizer = TfidfVectorizer()\n",
    "X_train_tfidf = vectorizer.fit_transform(X_train)\n",
    "X_test_tfidf = vectorizer.transform(X_test)\n",
    "\n",
    "# Create an SVM classifier with a linear kernel \n",
    "svm_classifier = SVC(kernel='linear')\n",
    "\n",
    "# Train the classifier on the transformed training data\n",
    "svm_classifier.fit(X_train_tfidf , y_train)\n",
    "\n",
    "# Make predictions on test set\n",
    "y_pred  = svm_classifier.predict(X_test_tfidf )\n",
    "\n",
    "# Calculate scores: accuracy ,f1-score ,recall-score \n",
    "accuracy_svm  = accuracy_score(y_test,y_pred )\n",
    "f1_svm        = f1_score(y_test,y_pred , average=\"weighted\")"
   ]
  },
  {
   "cell_type": "code",
   "execution_count": 56,
   "id": "b9f252ec",
   "metadata": {},
   "outputs": [
    {
     "data": {
      "text/plain": [
       "0.725925925925926"
      ]
     },
     "execution_count": 56,
     "metadata": {},
     "output_type": "execute_result"
    }
   ],
   "source": [
    "accuracy_svm"
   ]
  },
  {
   "cell_type": "code",
   "execution_count": 57,
   "id": "cd7bd571",
   "metadata": {},
   "outputs": [
    {
     "data": {
      "image/png": "[encoded data removed]",
      "text/plain": [
       "<Figure size 576x432 with 2 Axes>"
      ]
     },
     "metadata": {
      "needs_background": "light"
     },
     "output_type": "display_data"
    }
   ],
   "source": [
    "import matplotlib.pyplot as plt\n",
    "import seaborn as sns\n",
    "from sklearn.metrics import confusion_matrix\n",
    "\n",
    "# Calculate confusion matrix\n",
    "conf_mat = confusion_matrix(y_test, y_pred)\n",
    "\n",
    "# Plot heatmap of the confusion matrix using Seaborn library\n",
    "plt.figure(figsize=(8, 6))\n",
    "sns.heatmap(conf_mat, annot=True, fmt='d', cmap=\"YlGnBu\")\n",
    "plt.xlabel('Predicted')\n",
    "plt.ylabel('Actual')\n",
    "plt.title('Confusion Matrix - SVM Model')\n",
    "plt.show()"
   ]
  },
  {
   "cell_type": "code",
   "execution_count": 58,
   "id": "bb878895",
   "metadata": {},
   "outputs": [
    {
     "data": {
      "text/plain": [
       "array([[431,   1, 126],\n",
       "       [ 49,   0,  70],\n",
       "       [124,   0, 549]], dtype=int64)"
      ]
     },
     "execution_count": 58,
     "metadata": {},
     "output_type": "execute_result"
    }
   ],
   "source": [
    "conf_mat"
   ]
  },
  {
   "cell_type": "code",
   "execution_count": null,
   "id": "3f8015df",
   "metadata": {},
   "outputs": [],
   "source": []
  }
 ],
 "metadata": {
  "kernelspec": {
   "display_name": "Python 3",
   "language": "python",
   "name": "python3"
  },
  "language_info": {
   "codemirror_mode": {
    "name": "ipython",
    "version": 3
   },
   "file_extension": ".py",
   "mimetype": "text/x-python",
   "name": "python",
   "nbconvert_exporter": "python",
   "pygments_lexer": "ipython3",
   "version": "3.8.8"
  }
 },
 "nbformat": 4,
 "nbformat_minor": 5
}
